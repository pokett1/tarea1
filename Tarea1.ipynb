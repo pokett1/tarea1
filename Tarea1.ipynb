{
 "cells": [
  {
   "cell_type": "markdown",
   "metadata": {},
   "source": [
    "# Ejercicio 1"
   ]
  },
  {
   "cell_type": "code",
   "execution_count": 1,
   "metadata": {},
   "outputs": [
    {
     "name": "stdout",
     "output_type": "stream",
     "text": [
      "Largo de la lista de usuarios: 2\n",
      "Nombre: a\n",
      "Nombre: a\n",
      "Ya está, ingrese otro usuario: b\n",
      "Hola a!\n",
      "Hola b!\n"
     ]
    }
   ],
   "source": [
    "lista = []\n",
    "x = input(\"Largo de la lista de usuarios: \")\n",
    "while x.isalpha() or 1> int(x):\n",
    "    x= input(\"En números, mínimo 1: \") \n",
    "i=0\n",
    "d=0\n",
    "while int(i) < int(x):\n",
    "    c= input(\"Nombre: \")\n",
    "    while c in lista is not 'true':\n",
    "        c = input(\"Ya está, ingrese otro usuario: \")\n",
    "    lista.append(c)\n",
    "    i+=1    \n",
    "for elemento in lista:\n",
    "    print(\"Hola \"+elemento+\"!\")"
   ]
  },
  {
   "cell_type": "markdown",
   "metadata": {},
   "source": [
    "# Ejercicio 2"
   ]
  },
  {
   "cell_type": "code",
   "execution_count": 2,
   "metadata": {
    "scrolled": true
   },
   "outputs": [
    {
     "name": "stdout",
     "output_type": "stream",
     "text": [
      "Cantidad de inivitados a registrar (máximo 6): 2\n",
      "\n",
      "\n",
      "Ingrese un nombre de invitado válido: a\n",
      "Ingrese un nombre de invitado válido: a\n",
      "Ya está, ingrese otra persona: b\n",
      "\n",
      "Si no va a realizar ningún cambio presione 'e': s\n",
      "\n",
      "Desea agregar a alguien? (s/n) s\n",
      "Nombre de invitado válido: c\n",
      "\n",
      "Desea cambiar a alguien? (s/n) s\n",
      "A quien quiere cambiar? b\n",
      "Por quien quiere cambiarlo? d\n",
      "\n",
      "Desea eliminar a alguien? (s/n) s\n",
      "A quien quiere eliminar? a\n",
      "Invitado eliminado\n",
      "\n",
      "Si ahora no va a realizar ningún cambio presione 'e': e\n",
      "\n",
      "Los invitados son:\n",
      "-D\n",
      "-C\n",
      "La cantidad de invitados es de: 2\n"
     ]
    }
   ],
   "source": [
    "lista = []\n",
    "x = input(\"Cantidad de inivitados a registrar (máximo 6): \")\n",
    "while x.isalpha() or 1> int(x) or int(x) > 6 :\n",
    "    x= input(\"En números, mínimo 1 y máximo 6: \")    \n",
    "print(\"\\n\")\n",
    "i=0\n",
    "while int(i) < int(x):\n",
    "    c = input(\"Ingrese un nombre de invitado válido: \").capitalize()\n",
    "    while c.isalpha() is False:\n",
    "        c = input(\"Nombre de invitado válido por favor: \").capitalize()\n",
    "    while c in lista:\n",
    "        c = input(\"Ya está, ingrese otra persona: \").capitalize()\n",
    "    lista.append(c)\n",
    "    i+=1    \n",
    "z = input(\"\\nSi no va a realizar ningún cambio presione 'e': \")\n",
    "while z != 'e':\n",
    "    y = input(\"\\nDesea agregar a alguien? (s/n) \")      #1: Agregar\n",
    "    if y.lower() == 's':\n",
    "        if len(lista) <6:\n",
    "            c = input(\"Nombre de invitado válido: \").capitalize()   \n",
    "            while c.isalpha() is False:\n",
    "                c = input(\"Nombre de invitado válido por favor: \").capitalize()\n",
    "            while c in lista:\n",
    "                c = input(\"Ya está, ingrese otra persona: \").capitalize()\n",
    "            lista.append(c)\n",
    "        else: print(\"Lista llena, no hay espacio para nadie más.\")\n",
    "    else: print(\"No se agregará a nadie.\")\n",
    "    y = input(\"\\nDesea cambiar a alguien? (s/n) \")      #2: cambiar\n",
    "    b=0\n",
    "    if y.lower() == 's':\n",
    "        c=input(\"A quien quiere cambiar? \").capitalize()\n",
    "        while c.isalpha() is False:\n",
    "            c = input(\"Nombre válido por favor: \").capitalize()\n",
    "        if c in lista:\n",
    "            w=input(\"Por quien quiere cambiarlo? \").capitalize()\n",
    "            while w.isalpha() is False:\n",
    "                w = input(\"Nombre de invitado válido por favor: \").capitalize()\n",
    "            if w not in lista:\n",
    "                while b < len(lista):\n",
    "                    if lista[b] == c:\n",
    "                        lista[b] = w\n",
    "                    b+=1\n",
    "            else: print(\"El invitado ya está, por lo que no se cambiará\")\n",
    "        else: print(\"El invitado no se encuentra.\")\n",
    "    else: print(\"No se cambiará a nadie\")\n",
    "    y = input(\"\\nDesea eliminar a alguien? (s/n) \")      #3: Eliminar\n",
    "    b=0\n",
    "    if y.lower() == 's':\n",
    "        c=input(\"A quien quiere eliminar? \").capitalize()\n",
    "        while c.isalpha() is False:\n",
    "            c = input(\"Nombre de invitado válido por favor: \").capitalize()\n",
    "        if c in lista:\n",
    "            while b < len(lista):\n",
    "                if lista[b] == c:\n",
    "                    del lista[b]\n",
    "                    print(\"Invitado eliminado\")\n",
    "                b+=1\n",
    "        else: print(\"El invitado no se encuentra.\")\n",
    "    else: print(\"No se eliminará a nadie.\")\n",
    "    z = input(\"\\nSi ahora no va a realizar ningún cambio presione 'e': \")\n",
    "print(\"\\nLos invitados son:\")\n",
    "for elemento in lista:\n",
    "    print(\"-\"+elemento)\n",
    "print(\"La cantidad de invitados es de: \"+str(len(lista)))"
   ]
  },
  {
   "cell_type": "markdown",
   "metadata": {},
   "source": [
    "# Ejercicio 3"
   ]
  },
  {
   "cell_type": "code",
   "execution_count": 3,
   "metadata": {},
   "outputs": [
    {
     "name": "stdout",
     "output_type": "stream",
     "text": [
      "Ingrese el largo de la lista: 8\n",
      "Los números pares: [2, 4, 6, 8, 10, 12, 14, 16]\n",
      "Los números elevados a 3 serían:\n",
      "El primero: [8]\n",
      "El último: [4096]\n",
      "Los centrales: [64, 216, 512, 1000, 1728, 2744]\n"
     ]
    }
   ],
   "source": [
    "c = input(\"Ingrese el largo de la lista: \")\n",
    "while c.isalpha():\n",
    "    c = input(\"Ingrese un número: \")\n",
    "rangle = list(range(2,int(c)*2+1,2))\n",
    "triple = []\n",
    "for nu in rangle:\n",
    "    triple.append(nu**3)\n",
    "print(\"Los números pares: \"+str(rangle)+\"\\nLos números elevados a 3 serían:\")\n",
    "print(\"El primero: [\"+str(triple[0])+\"]\")\n",
    "print(\"El último: [\"+str(triple[-1])+\"]\")\n",
    "print(\"Los centrales: \"+str(triple[1:-1]))"
   ]
  },
  {
   "cell_type": "markdown",
   "metadata": {},
   "source": [
    "# Ejercicio 4"
   ]
  },
  {
   "cell_type": "code",
   "execution_count": 4,
   "metadata": {},
   "outputs": [
    {
     "name": "stdout",
     "output_type": "stream",
     "text": [
      "Largo de la lista de usuarios: 3\n",
      "Nombre de usuario: a\n",
      "Nombre de usuario: b\n",
      "Nombre de usuario: admin\n",
      "No puede ser registrado, ingrese otro usuario: ADMIN\n",
      "No puede ser registrado, ingrese otro usuario: peru\n",
      "usuario: a\n",
      "usuario: b\n",
      "usuario: peru\n"
     ]
    }
   ],
   "source": [
    "lista = []\n",
    "x = input(\"Largo de la lista de usuarios: \")\n",
    "while x.isalpha() or 1> int(x):\n",
    "    x= input(\"En números, mínimo 1: \")\n",
    "i=0\n",
    "d=0\n",
    "while int(i) < int(x):\n",
    "    c= input(\"Nombre de usuario: \")\n",
    "    while c in lista or c.lower()==\"admin\":\n",
    "        c = input(\"No puede ser registrado, ingrese otro usuario: \")\n",
    "    lista.append(c)\n",
    "    i+=1\n",
    "for elemento in lista:\n",
    "    print(\"usuario: \"+elemento)"
   ]
  },
  {
   "cell_type": "markdown",
   "metadata": {},
   "source": [
    "# Ejercicio 5"
   ]
  },
  {
   "cell_type": "code",
   "execution_count": 5,
   "metadata": {},
   "outputs": [
    {
     "name": "stdout",
     "output_type": "stream",
     "text": [
      "Ingrese su nombre: juan\n",
      "Ingrese su apellido: PEREZ\n",
      "\n",
      "Agregar otra caracteristica al diccionario? (s/n): s\n",
      "\n",
      "La caracteristica: sacate\n",
      "Sacate: uno\n",
      "\n",
      "Agregar otra caracteristica al diccionario? (s/n): n\n",
      "{'Nombre': 'Juan', 'Apellido': 'Perez', 'Sacate': 'Uno'}\n"
     ]
    }
   ],
   "source": [
    "n = input(\"Ingrese su nombre: \").capitalize()\n",
    "while n.isalpha() is False:\n",
    "    n = input(\"Nombre válido por favor: \").capitalize()\n",
    "a = input(\"Ingrese su apellido: \").capitalize()\n",
    "while a.isalpha() is False:\n",
    "    a = input(\"Apellido válido por favor: \").capitalize()\n",
    "d={}\n",
    "d[\"Nombre\"]=n\n",
    "d[\"Apellido\"]=a\n",
    "x=1\n",
    "while a.isalpha():\n",
    "    q = input(\"\\nAgregar otra caracteristica al diccionario? (s/n): \").lower()\n",
    "    if q == 's':\n",
    "        key = input(\"\\nLa caracteristica: \").capitalize()\n",
    "        value = input(str(key)+\": \").capitalize()\n",
    "        d[key] = value\n",
    "    elif q == 'n':\n",
    "        a=\"a1\"\n",
    "    else: print(\"Ingresó mal la respuesta.\")\n",
    "print(d)"
   ]
  },
  {
   "cell_type": "markdown",
   "metadata": {},
   "source": [
    "# Ejercicio 6"
   ]
  },
  {
   "cell_type": "code",
   "execution_count": 6,
   "metadata": {},
   "outputs": [
    {
     "name": "stdout",
     "output_type": "stream",
     "text": [
      "Cual es tu lugar favorito? (Detener la encuesta con STOP): chile\n",
      "Cual es tu lugar favorito? (Detener la encuesta con STOP): china\n",
      "Cual es tu lugar favorito? (Detener la encuesta con STOP): chile\n",
      "Cual es tu lugar favorito? (Detener la encuesta con STOP): colombia\n",
      "Cual es tu lugar favorito? (Detener la encuesta con STOP): polonia\n",
      "Cual es tu lugar favorito? (Detener la encuesta con STOP): stop\n",
      "Chile: 2\n",
      "China: 1\n",
      "Colombia: 1\n",
      "Polonia: 1\n"
     ]
    }
   ],
   "source": [
    "lista = [[],[]]\n",
    "while True:\n",
    "    c= input(\"Cual es tu lugar favorito? (Detener la encuesta con STOP): \").capitalize()\n",
    "    while c.isalpha() is False:\n",
    "        c = input(\"Lugar válido por favor: \").capitalize()\n",
    "    if c == \"Stop\":\n",
    "        break\n",
    "    if c in lista[0]:\n",
    "        x=lista[0].index(c)\n",
    "        lista[1][x] += 1\n",
    "    else:\n",
    "        lista[0].append(c)\n",
    "        lista[1].append(1)\n",
    "for x in range(len(lista[0])):\n",
    "    print(lista[0][x] + \": \" + str(lista[1][x]))"
   ]
  },
  {
   "cell_type": "markdown",
   "metadata": {},
   "source": [
    "# Ejercicio 7 (E.3)"
   ]
  },
  {
   "cell_type": "code",
   "execution_count": 7,
   "metadata": {},
   "outputs": [
    {
     "name": "stdout",
     "output_type": "stream",
     "text": [
      "Ingrese el largo de la lista: 9\n",
      "Los números pares: [2, 4, 6, 8, 10, 12, 14, 16, 18]\n",
      "Los números elevados a 3 serían:\n",
      "El primero: [8]\n",
      "El último: [5832]\n",
      "Los centrales: [64, 216, 512, 1000, 1728, 2744, 4096]\n"
     ]
    }
   ],
   "source": [
    "def tres(x):\n",
    "    rangle = list(range(2,int(x)*2+1,2))\n",
    "    triple = []\n",
    "    for nu in rangle:\n",
    "        triple.append(nu**3)\n",
    "    print(\"Los números pares: \"+str(rangle)+\"\\nLos números elevados a 3 serían:\")\n",
    "    print(\"El primero: [\"+str(triple[0])+\"]\")\n",
    "    print(\"El último: [\"+str(triple[-1])+\"]\")\n",
    "    print(\"Los centrales: \"+str(triple[1:-1]))\n",
    "\n",
    "\n",
    "c = input(\"Ingrese el largo de la lista: \")\n",
    "while c.isalpha():\n",
    "    c = input(\"Ingrese un número: \")\n",
    "tres(c)"
   ]
  },
  {
   "cell_type": "markdown",
   "metadata": {},
   "source": [
    "# Ejercicio 7 (E.4)"
   ]
  },
  {
   "cell_type": "code",
   "execution_count": 8,
   "metadata": {},
   "outputs": [
    {
     "name": "stdout",
     "output_type": "stream",
     "text": [
      "Largo de la lista de usuarios: 6\n",
      "Nombre de usuario: a\n",
      "Nombre de usuario: a\n",
      "No puede ser registrado, ingrese otro usuario: b\n",
      "Nombre de usuario: c\n",
      "Nombre de usuario: d\n",
      "Nombre de usuario: e\n",
      "Nombre de usuario: f\n",
      "usuario: a\n",
      "usuario: b\n",
      "usuario: c\n",
      "usuario: d\n",
      "usuario: e\n",
      "usuario: f\n"
     ]
    }
   ],
   "source": [
    "def cuatro(c):\n",
    "    while c in lista or c.lower()==\"admin\":\n",
    "        c = input(\"No puede ser registrado, ingrese otro usuario: \")\n",
    "    lista.append(c)\n",
    "    \n",
    "    \n",
    "lista = []\n",
    "x = input(\"Largo de la lista de usuarios: \")\n",
    "while x.isalpha() or 1> int(x):\n",
    "    x= input(\"En números, mínimo 1: \")\n",
    "i=0\n",
    "d=0\n",
    "while int(i) < int(x):\n",
    "    c= input(\"Nombre de usuario: \")\n",
    "    cuatro(c)\n",
    "    i+=1\n",
    "for elemento in lista:\n",
    "    print(\"usuario: \"+elemento)"
   ]
  }
 ],
 "metadata": {
  "kernelspec": {
   "display_name": "Python 3",
   "language": "python",
   "name": "python3"
  },
  "language_info": {
   "codemirror_mode": {
    "name": "ipython",
    "version": 3
   },
   "file_extension": ".py",
   "mimetype": "text/x-python",
   "name": "python",
   "nbconvert_exporter": "python",
   "pygments_lexer": "ipython3",
   "version": "3.7.3"
  }
 },
 "nbformat": 4,
 "nbformat_minor": 2
}
